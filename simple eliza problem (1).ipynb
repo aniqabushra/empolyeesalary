{
 "cells": [
  {
   "cell_type": "code",
   "execution_count": 2,
   "metadata": {},
   "outputs": [
    {
     "name": "stdout",
     "output_type": "stream",
     "text": [
      "GOOD DAY PLEASE ENTER YOUR PROBLEM, OR ENTER I AM FEELING GREAT OR Q TO QUIT sad\n",
      "SAD\n",
      "GOOD DAY PLEASE ENTER YOUR PROBLEM, OR ENTER I AM FEELING GREAT OR Q TO QUIT q\n",
      "Q\n",
      "good bye\n"
     ]
    }
   ],
   "source": [
    "message='Good Day'\n",
    "message+=\"\"\" Please enter your problem, or enter i am feeling great or Q TO QUIT \"\"\"\n",
    "answer= True\n",
    "while not answer=='I am feeling great' and not answer=='Q'and not answer=='q':\n",
    "    answer=input(message.upper())\n",
    "    print(answer.upper())\n",
    "    if  answer=='Q' and answer=='q':\n",
    "        print('OK')\n",
    "    if  answer=='I am feeling great':\n",
    "        print('ok')\n",
    "        print(answer)\n",
    "print('good bye')\n",
    "    "
   ]
  },
  {
   "cell_type": "code",
   "execution_count": null,
   "metadata": {},
   "outputs": [],
   "source": []
  }
 ],
 "metadata": {
  "kernelspec": {
   "display_name": "Python 3",
   "language": "python",
   "name": "python3"
  },
  "language_info": {
   "codemirror_mode": {
    "name": "ipython",
    "version": 3
   },
   "file_extension": ".py",
   "mimetype": "text/x-python",
   "name": "python",
   "nbconvert_exporter": "python",
   "pygments_lexer": "ipython3",
   "version": "3.7.3"
  }
 },
 "nbformat": 4,
 "nbformat_minor": 2
}
