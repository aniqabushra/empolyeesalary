{
 "cells": [
  {
   "cell_type": "code",
   "execution_count": 41,
   "metadata": {},
   "outputs": [],
   "source": [
    "import pandas as pd\n",
    "import numpy as np"
   ]
  },
  {
   "cell_type": "code",
   "execution_count": 42,
   "metadata": {},
   "outputs": [
    {
     "data": {
      "text/html": [
       "<div>\n",
       "<style scoped>\n",
       "    .dataframe tbody tr th:only-of-type {\n",
       "        vertical-align: middle;\n",
       "    }\n",
       "\n",
       "    .dataframe tbody tr th {\n",
       "        vertical-align: top;\n",
       "    }\n",
       "\n",
       "    .dataframe thead th {\n",
       "        text-align: right;\n",
       "    }\n",
       "</style>\n",
       "<table border=\"1\" class=\"dataframe\">\n",
       "  <thead>\n",
       "    <tr style=\"text-align: right;\">\n",
       "      <th></th>\n",
       "      <th>names</th>\n",
       "      <th>payrt</th>\n",
       "      <th>hrs_worked</th>\n",
       "    </tr>\n",
       "  </thead>\n",
       "  <tbody>\n",
       "    <tr>\n",
       "      <th>0</th>\n",
       "      <td>Mary</td>\n",
       "      <td>15.0</td>\n",
       "      <td>40</td>\n",
       "    </tr>\n",
       "    <tr>\n",
       "      <th>1</th>\n",
       "      <td>John</td>\n",
       "      <td>22.0</td>\n",
       "      <td>25</td>\n",
       "    </tr>\n",
       "    <tr>\n",
       "      <th>2</th>\n",
       "      <td>Bob</td>\n",
       "      <td>35.0</td>\n",
       "      <td>4</td>\n",
       "    </tr>\n",
       "    <tr>\n",
       "      <th>3</th>\n",
       "      <td>Mel</td>\n",
       "      <td>43.0</td>\n",
       "      <td>62</td>\n",
       "    </tr>\n",
       "    <tr>\n",
       "      <th>4</th>\n",
       "      <td>Jen</td>\n",
       "      <td>17.0</td>\n",
       "      <td>33</td>\n",
       "    </tr>\n",
       "    <tr>\n",
       "      <th>5</th>\n",
       "      <td>Sue</td>\n",
       "      <td>29.0</td>\n",
       "      <td>45</td>\n",
       "    </tr>\n",
       "    <tr>\n",
       "      <th>6</th>\n",
       "      <td>Ken</td>\n",
       "      <td>40.0</td>\n",
       "      <td>36</td>\n",
       "    </tr>\n",
       "    <tr>\n",
       "      <th>7</th>\n",
       "      <td>Dev</td>\n",
       "      <td>20.0</td>\n",
       "      <td>17</td>\n",
       "    </tr>\n",
       "    <tr>\n",
       "      <th>8</th>\n",
       "      <td>Dave</td>\n",
       "      <td>37.0</td>\n",
       "      <td>37</td>\n",
       "    </tr>\n",
       "    <tr>\n",
       "      <th>9</th>\n",
       "      <td>Beth</td>\n",
       "      <td>16.5</td>\n",
       "      <td>80</td>\n",
       "    </tr>\n",
       "  </tbody>\n",
       "</table>\n",
       "</div>"
      ],
      "text/plain": [
       "  names  payrt  hrs_worked\n",
       "0  Mary   15.0          40\n",
       "1  John   22.0          25\n",
       "2   Bob   35.0           4\n",
       "3   Mel   43.0          62\n",
       "4   Jen   17.0          33\n",
       "5   Sue   29.0          45\n",
       "6   Ken   40.0          36\n",
       "7   Dev   20.0          17\n",
       "8  Dave   37.0          37\n",
       "9  Beth   16.5          80"
      ]
     },
     "execution_count": 42,
     "metadata": {},
     "output_type": "execute_result"
    }
   ],
   "source": [
    "names=['Mary', 'John','Bob','Mel','Jen','Sue','Ken','Dev','Dave','Beth','Ray']\n",
    "payrt=[15,22,35,43,17,29,40,20,37,16.50]\n",
    "hrs_worked=[40,25,4,62,33,45,36,17,37,80]\n",
    "data_table=list(zip(names,salary,hrs_worked))\n",
    "initial_df=pd.DataFrame(data=data_table, columns=['names','payrt','hrs_worked'])\n",
    "initial_df"
   ]
  },
  {
   "cell_type": "code",
   "execution_count": 43,
   "metadata": {},
   "outputs": [
    {
     "data": {
      "text/plain": [
       "0    40\n",
       "1    25\n",
       "2     4\n",
       "3    62\n",
       "4    33\n",
       "5    45\n",
       "6    36\n",
       "7    17\n",
       "8    37\n",
       "9    80\n",
       "Name: hrs_worked, dtype: int64"
      ]
     },
     "execution_count": 43,
     "metadata": {},
     "output_type": "execute_result"
    }
   ],
   "source": [
    "initial_df['hrs_worked']\n"
   ]
  },
  {
   "cell_type": "code",
   "execution_count": 53,
   "metadata": {},
   "outputs": [
    {
     "name": "stdout",
     "output_type": "stream",
     "text": [
      "Mary 600\n",
      "John 550\n",
      "Bob 140\n",
      "Mel 3139.0\n",
      "Jen 561\n",
      "Sue 1377.5\n",
      "Ken 1440\n",
      "Dev 340\n",
      "Dave 1369\n",
      "Beth 1650.0\n"
     ]
    }
   ],
   "source": [
    "for n in range(0,10):\n",
    "    if hrs_worked[n]>40:\n",
    "        extrahr=hrs_worked[n]-40\n",
    "        extrapay=extrahr*1.5*payrt[n]\n",
    "        pay=40*payrt[n]+extrapay\n",
    "    elif hrs_worked[n]<=40:\n",
    "        pay=hrs_worked[n]*payrt[n]\n",
    "        \n",
    "    print(names[n],pay)\n",
    "    "
   ]
  },
  {
   "cell_type": "code",
   "execution_count": null,
   "metadata": {},
   "outputs": [],
   "source": []
  }
 ],
 "metadata": {
  "kernelspec": {
   "display_name": "Python 3",
   "language": "python",
   "name": "python3"
  },
  "language_info": {
   "codemirror_mode": {
    "name": "ipython",
    "version": 3
   },
   "file_extension": ".py",
   "mimetype": "text/x-python",
   "name": "python",
   "nbconvert_exporter": "python",
   "pygments_lexer": "ipython3",
   "version": "3.7.3"
  }
 },
 "nbformat": 4,
 "nbformat_minor": 2
}
