{
 "cells": [
  {
   "cell_type": "code",
   "execution_count": 6,
   "metadata": {},
   "outputs": [
    {
     "name": "stdout",
     "output_type": "stream",
     "text": [
      "Good Day Please enter your problem, or enter i am feeling great or Q TO QUIT sad\n",
      "sad\n",
      "Good Day Please enter your problem, or enter i am feeling great or Q TO QUIT Q\n",
      "Q\n",
      "OK\n",
      "good bye\n"
     ]
    }
   ],
   "source": [
    "message='Good Day'\n",
    "message+=\"\"\" Please enter your problem, or enter i am feeling great or Q TO QUIT \"\"\"\n",
    "answer= True\n",
    "while not answer=='I am feeling great' and not answer=='Q':\n",
    "    answer=input(message)\n",
    "    print(answer)\n",
    "    if  answer=='Q':\n",
    "        print('OK')\n",
    "    if  answer=='I am feeling great':\n",
    "        print('ok')\n",
    "print('good bye')\n",
    "    "
   ]
  },
  {
   "cell_type": "code",
   "execution_count": null,
   "metadata": {},
   "outputs": [],
   "source": []
  }
 ],
 "metadata": {
  "kernelspec": {
   "display_name": "Python 3",
   "language": "python",
   "name": "python3"
  },
  "language_info": {
   "codemirror_mode": {
    "name": "ipython",
    "version": 3
   },
   "file_extension": ".py",
   "mimetype": "text/x-python",
   "name": "python",
   "nbconvert_exporter": "python",
   "pygments_lexer": "ipython3",
   "version": "3.7.3"
  }
 },
 "nbformat": 4,
 "nbformat_minor": 2
}
